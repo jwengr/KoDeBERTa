{
  "cells": [
    {
      "cell_type": "markdown",
      "metadata": {
        "id": "view-in-github",
        "colab_type": "text"
      },
      "source": [
        "<a href=\"https://colab.research.google.com/github/jwengr/KoDeBERTa/blob/main/tf_deberta_colab_tpu_pretrain.ipynb\" target=\"_parent\"><img src=\"https://colab.research.google.com/assets/colab-badge.svg\" alt=\"Open In Colab\"/></a>"
      ]
    },
    {
      "cell_type": "code",
      "execution_count": null,
      "metadata": {
        "colab": {
          "base_uri": "https://localhost:8080/"
        },
        "id": "OUhhHQVlHYiB",
        "outputId": "18e695eb-605e-412a-edc9-da5b9ed052b0"
      },
      "outputs": [
        {
          "name": "stdout",
          "output_type": "stream",
          "text": [
            "\u001b[2K     \u001b[90m━━━━━━━━━━━━━━━━━━━━━━━━━━━━━━━━━━━━━━\u001b[0m \u001b[32m720.6/720.6 kB\u001b[0m \u001b[31m13.1 MB/s\u001b[0m eta \u001b[36m0:00:00\u001b[0m\n",
            "\u001b[2K     \u001b[90m━━━━━━━━━━━━━━━━━━━━━━━━━━━━━━━━━━━━━━━━\u001b[0m \u001b[32m7.2/7.2 MB\u001b[0m \u001b[31m91.3 MB/s\u001b[0m eta \u001b[36m0:00:00\u001b[0m\n",
            "\u001b[2K     \u001b[90m━━━━━━━━━━━━━━━━━━━━━━━━━━━━━━━━━━━━━━\u001b[0m \u001b[32m485.6/485.6 kB\u001b[0m \u001b[31m45.6 MB/s\u001b[0m eta \u001b[36m0:00:00\u001b[0m\n",
            "\u001b[2K     \u001b[90m━━━━━━━━━━━━━━━━━━━━━━━━━━━━━━━━━━━━━━\u001b[0m \u001b[32m519.2/519.2 kB\u001b[0m \u001b[31m46.6 MB/s\u001b[0m eta \u001b[36m0:00:00\u001b[0m\n",
            "\u001b[2K     \u001b[90m━━━━━━━━━━━━━━━━━━━━━━━━━━━━━━━━━━━━━━\u001b[0m \u001b[32m236.8/236.8 kB\u001b[0m \u001b[31m27.2 MB/s\u001b[0m eta \u001b[36m0:00:00\u001b[0m\n",
            "\u001b[2K     \u001b[90m━━━━━━━━━━━━━━━━━━━━━━━━━━━━━━━━━━━━━━━━\u001b[0m \u001b[32m7.8/7.8 MB\u001b[0m \u001b[31m106.4 MB/s\u001b[0m eta \u001b[36m0:00:00\u001b[0m\n",
            "\u001b[2K     \u001b[90m━━━━━━━━━━━━━━━━━━━━━━━━━━━━━━━━━━━━━━━━\u001b[0m \u001b[32m1.3/1.3 MB\u001b[0m \u001b[31m82.1 MB/s\u001b[0m eta \u001b[36m0:00:00\u001b[0m\n",
            "\u001b[2K     \u001b[90m━━━━━━━━━━━━━━━━━━━━━━━━━━━━━━━━━━━━━━\u001b[0m \u001b[32m110.5/110.5 kB\u001b[0m \u001b[31m13.6 MB/s\u001b[0m eta \u001b[36m0:00:00\u001b[0m\n",
            "\u001b[2K     \u001b[90m━━━━━━━━━━━━━━━━━━━━━━━━━━━━━━━━━━━━━━\u001b[0m \u001b[32m212.5/212.5 kB\u001b[0m \u001b[31m25.6 MB/s\u001b[0m eta \u001b[36m0:00:00\u001b[0m\n",
            "\u001b[2K     \u001b[90m━━━━━━━━━━━━━━━━━━━━━━━━━━━━━━━━━━━━━━\u001b[0m \u001b[32m134.3/134.3 kB\u001b[0m \u001b[31m14.6 MB/s\u001b[0m eta \u001b[36m0:00:00\u001b[0m\n",
            "\u001b[2K     \u001b[90m━━━━━━━━━━━━━━━━━━━━━━━━━━━━━━━━━━━━━━━━\u001b[0m \u001b[32m1.0/1.0 MB\u001b[0m \u001b[31m65.6 MB/s\u001b[0m eta \u001b[36m0:00:00\u001b[0m\n",
            "\u001b[2K     \u001b[90m━━━━━━━━━━━━━━━━━━━━━━━━━━━━━━━━━━━━━━\u001b[0m \u001b[32m114.5/114.5 kB\u001b[0m \u001b[31m13.2 MB/s\u001b[0m eta \u001b[36m0:00:00\u001b[0m\n",
            "\u001b[2K     \u001b[90m━━━━━━━━━━━━━━━━━━━━━━━━━━━━━━━━━━━━━━\u001b[0m \u001b[32m268.8/268.8 kB\u001b[0m \u001b[31m28.7 MB/s\u001b[0m eta \u001b[36m0:00:00\u001b[0m\n",
            "\u001b[2K     \u001b[90m━━━━━━━━━━━━━━━━━━━━━━━━━━━━━━━━━━━━━━\u001b[0m \u001b[32m149.6/149.6 kB\u001b[0m \u001b[31m19.8 MB/s\u001b[0m eta \u001b[36m0:00:00\u001b[0m\n",
            "\u001b[?25h"
          ]
        }
      ],
      "source": [
        "! pip install --quiet transformers datasets"
      ]
    },
    {
      "cell_type": "code",
      "execution_count": null,
      "metadata": {
        "colab": {
          "base_uri": "https://localhost:8080/"
        },
        "id": "JsJfCI7NIdUB",
        "outputId": "7c4b6998-a577-4f7f-d0e2-0a81574bb022"
      },
      "outputs": [
        {
          "name": "stdout",
          "output_type": "stream",
          "text": [
            "/content/drive/MyDrive/KoDeBERTa\n",
            "/content/drive/MyDrive/KoDeBERTa\n"
          ]
        }
      ],
      "source": [
        "cd /content/drive/MyDrive/KoDeBERTa"
      ]
    },
    {
      "cell_type": "code",
      "execution_count": null,
      "metadata": {
        "id": "jziXlNaBZSG0"
      },
      "outputs": [],
      "source": [
        "import os\n",
        "import random\n",
        "import numpy as np\n",
        "import tensorflow as tf\n",
        "\n",
        "from datasets import load_dataset\n",
        "from tokenizers import Tokenizer\n",
        "\n",
        "from Model.DebertaV3.TFDebertaV3 import TFDebertaV3ForPretraining\n",
        "from Data.DataCollator import DataCollatorForHFUnigramSpanMLM"
      ]
    },
    {
      "cell_type": "code",
      "execution_count": null,
      "metadata": {
        "id": "CHqqTxgGZSG0"
      },
      "outputs": [],
      "source": [
        "seed = 0\n",
        "data_path = '/content/drive/MyDrive/KoDeBERTa/data/test.txt'\n",
        "model_name = 'microsoft/deberta-v3-xsmall'\n",
        "tokenizer_path = '/content/drive/MyDrive/KoDeBERTa/tokenizers/mecab-hf-unigram-880M-128k.json'\n",
        "mask_token = '[MASK]'\n",
        "pad_token = '[PAD]'\n",
        "learning_rate = 1e-4\n",
        "current_step=0,\n",
        "total_steps = 512000000\n",
        "warmup_steps = 40960000\n",
        "batch_size = 8\n",
        "log_per_steps = 50\n",
        "log_dir = '/content/drive/MyDrive/KoDeBERTa/logs/tensorflow/TFDebertaV3ForPretrainingDataCollatorForHFUnigramSpanMLM'\n",
        "save_per_steps = 25600000\n",
        "save_dir = '/content/drive/MyDrive/KoDeBERTa/model/tensorflow/TFDebertaV3ForPretrainingDataCollatorForHFUnigramSpanMLM'\n",
        "max_length = 512\n",
        "mask_prob = 0.15\n",
        "pretrained_model_path = None"
      ]
    },
    {
      "cell_type": "code",
      "execution_count": null,
      "metadata": {
        "id": "p3BOfkX3ZSG0"
      },
      "outputs": [],
      "source": [
        "random.seed(seed)\n",
        "np.random.seed(seed)\n",
        "tf.random.set_seed(seed)\n"
      ]
    },
    {
      "cell_type": "code",
      "execution_count": null,
      "metadata": {
        "id": "HUX1jy79ZSG1"
      },
      "outputs": [],
      "source": [
        "tokenizer = Tokenizer.from_file(tokenizer_path)\n",
        "mask_id = tokenizer.get_vocab()[mask_token]\n",
        "pad_id = tokenizer.get_vocab()[pad_token]\n"
      ]
    },
    {
      "cell_type": "code",
      "execution_count": null,
      "metadata": {
        "id": "qCVqAJ0gIyEO"
      },
      "outputs": [],
      "source": [
        "!echo $COLAB_TPU_ADDR"
      ]
    },
    {
      "cell_type": "code",
      "execution_count": null,
      "metadata": {
        "id": "EeebAbGyZSG1"
      },
      "outputs": [],
      "source": [
        "TPU_PATH = f\"grpc://{os.environ['COLAB_TPU_ADDR']}\"\n",
        "\n",
        "resolver = tf.distribute.cluster_resolver.TPUClusterResolver(tpu=TPU_PATH)\n",
        "tf.config.experimental_connect_to_cluster(resolver)\n",
        "tf.tpu.experimental.initialize_tpu_system(resolver)\n",
        "strategy = tf.distribute.experimental.TPUStrategy(resolver)"
      ]
    },
    {
      "cell_type": "code",
      "execution_count": null,
      "metadata": {
        "id": "IFOcJj2CZSG1"
      },
      "outputs": [],
      "source": [
        "ds = load_dataset(\"text\", data_files={\"train\": data_path})['train']\n",
        "ds = ds.to_tf_dataset(\n",
        "    batch_size=batch_size,\n",
        "    shuffle=False,\n",
        "    collate_fn = DataCollatorForHFUnigramSpanMLM(tokenizer, truncation_argument={'max_length':max_length}, mask_prob=mask_prob, return_tensors='tf')\n",
        ")\n",
        "if current_step:\n",
        "    ds = ds.repeat(2).skip(current_step)"
      ]
    },
    {
      "cell_type": "code",
      "execution_count": null,
      "metadata": {
        "id": "gToTNbiBZSG1"
      },
      "outputs": [],
      "source": [
        "with strategy.scope():\n",
        "    if pretrained_model_path:\n",
        "        model = tf.keras.models.load_model(pretrained_model_path)\n",
        "    else:\n",
        "        model = TFDebertaV3ForPretraining(\n",
        "            model_name=model_name,\n",
        "            mask_id=mask_id,\n",
        "            pad_id=pad_id,\n",
        "            learning_rate=learning_rate,\n",
        "            warmup_steps=warmup_steps,\n",
        "            total_steps=total_steps\n",
        "        )\n",
        "\n",
        "    training_loss_generator = tf.keras.metrics.Mean('training_loss_generator', dtype=tf.float32)\n",
        "    training_loss_discriminator = tf.keras.metrics.Mean('training_loss_discriminator', dtype=tf.float32)\n",
        "\n",
        "    per_replica_batch_size = batch_size // strategy.num_replicas_in_sync\n",
        "    train_dataset = strategy.experimental_distribute_datasets_from_function(\n",
        "        lambda _: ds\n",
        "    )\n"
      ]
    },
    {
      "cell_type": "code",
      "execution_count": null,
      "metadata": {
        "id": "zoiFusOVZSG1"
      },
      "outputs": [],
      "source": [
        "@tf.function\n",
        "def train_multiple_steps(iterator, steps, current_step):\n",
        "    def step_fn(inputs):\n",
        "        masked_ids, attention_mask, label_ids = inputs\n",
        "        loss_generator, loss_discriminator = model(masked_ids=masked_ids, attention_mask=attention_mask, label_ids=label_ids, current_step=current_step)\n",
        "        training_loss_generator.update_state(loss_generator * strategy.num_replicas_in_sync)\n",
        "        training_loss_discriminator.update_state(loss_discriminator * strategy.num_replicas_in_sync)\n",
        "\n",
        "    for _ in tf.range(steps):\n",
        "        strategy.run(step_fn, args=(next(iterator),))"
      ]
    },
    {
      "cell_type": "code",
      "execution_count": null,
      "metadata": {
        "id": "0_UADQAVZSG2"
      },
      "outputs": [],
      "source": [
        "train_summary_writer = tf.summary.create_file_writer(log_dir)\n",
        "train_iterator = iter(train_dataset)\n",
        "for step in range(total_steps-current_step):\n",
        "    if step % log_per_steps == 0:\n",
        "        train_multiple_steps(train_iterator, log_per_steps, step+current_step)\n",
        "        if step % save_per_steps == 0:\n",
        "            model.save(f\"{save_dir}/loss_g={training_loss_generator.result()}-loss_d={training_loss_discriminator.result()}-step={step+current_step}.h5\")\n",
        "        with train_summary_writer.as_default():\n",
        "            tf.summary.scalar('training_loss_generator', training_loss_generator.result(), step=step+current_step)\n",
        "            tf.summary.scalar('training_loss_discriminator', training_loss_discriminator.result(), step=step+current_step)\n",
        "        training_loss_generator.reset_states()\n",
        "        training_loss_discriminator.reset_states()\n",
        ""
      ]
    },
    {
      "cell_type": "code",
      "execution_count": null,
      "metadata": {
        "id": "w7n7c21WZSG2"
      },
      "outputs": [],
      "source": []
    },
    {
      "cell_type": "code",
      "execution_count": null,
      "metadata": {
        "id": "oMAdiPd0ZSG2"
      },
      "outputs": [],
      "source": []
    },
    {
      "cell_type": "code",
      "execution_count": null,
      "metadata": {
        "id": "Gz7EhiAqZSG2"
      },
      "outputs": [],
      "source": []
    },
    {
      "cell_type": "code",
      "execution_count": null,
      "metadata": {
        "id": "TyTyOZmUZSG2"
      },
      "outputs": [],
      "source": []
    },
    {
      "cell_type": "code",
      "execution_count": null,
      "metadata": {
        "id": "vlNARlrZZSG2"
      },
      "outputs": [],
      "source": []
    },
    {
      "cell_type": "code",
      "execution_count": null,
      "metadata": {
        "id": "clYBC_S0ZSG2"
      },
      "outputs": [],
      "source": []
    }
  ],
  "metadata": {
    "accelerator": "TPU",
    "colab": {
      "machine_shape": "hm",
      "provenance": [],
      "include_colab_link": true
    },
    "kernelspec": {
      "display_name": "Python 3",
      "name": "python3"
    },
    "language_info": {
      "name": "python"
    }
  },
  "nbformat": 4,
  "nbformat_minor": 0
}